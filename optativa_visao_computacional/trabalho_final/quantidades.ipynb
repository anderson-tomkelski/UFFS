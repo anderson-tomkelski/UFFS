{
 "cells": [
  {
   "cell_type": "markdown",
   "metadata": {},
   "source": [
    "# Sanick Equipamentos de Precisão\n",
    "\n",
    "Abaixo importação e exibição do arquivo .csv contendo a quantidade de defeitos de cada amostra.\n",
    "\n",
    "Biblioteca utilizada: pandas"
   ]
  },
  {
   "cell_type": "code",
   "execution_count": 1,
   "metadata": {},
   "outputs": [],
   "source": [
    "import pandas as pd\n",
    "df = pd.read_csv('Info/quantidade.csv')\n",
    "df = df.set_index('objeto')"
   ]
  },
  {
   "cell_type": "markdown",
   "metadata": {},
   "source": [
    "### Conteúdo do DataFrame"
   ]
  },
  {
   "cell_type": "code",
   "execution_count": 2,
   "metadata": {},
   "outputs": [
    {
     "data": {
      "text/html": [
       "<div>\n",
       "<style scoped>\n",
       "    .dataframe tbody tr th:only-of-type {\n",
       "        vertical-align: middle;\n",
       "    }\n",
       "\n",
       "    .dataframe tbody tr th {\n",
       "        vertical-align: top;\n",
       "    }\n",
       "\n",
       "    .dataframe thead th {\n",
       "        text-align: right;\n",
       "    }\n",
       "</style>\n",
       "<table border=\"1\" class=\"dataframe\">\n",
       "  <thead>\n",
       "    <tr style=\"text-align: right;\">\n",
       "      <th></th>\n",
       "      <th>defeitosTreino</th>\n",
       "      <th>semDefeitosTreino</th>\n",
       "      <th>totalTreino</th>\n",
       "      <th>defeitosTeste</th>\n",
       "      <th>semDefeitosTeste</th>\n",
       "      <th>totalTeste</th>\n",
       "      <th>Total</th>\n",
       "      <th>%Defeitos</th>\n",
       "    </tr>\n",
       "    <tr>\n",
       "      <th>objeto</th>\n",
       "      <th></th>\n",
       "      <th></th>\n",
       "      <th></th>\n",
       "      <th></th>\n",
       "      <th></th>\n",
       "      <th></th>\n",
       "      <th></th>\n",
       "      <th></th>\n",
       "    </tr>\n",
       "  </thead>\n",
       "  <tbody>\n",
       "    <tr>\n",
       "      <th>capsulaRosa</th>\n",
       "      <td>15</td>\n",
       "      <td>197</td>\n",
       "      <td>212</td>\n",
       "      <td>5</td>\n",
       "      <td>83</td>\n",
       "      <td>88</td>\n",
       "      <td>300</td>\n",
       "      <td>6,66</td>\n",
       "    </tr>\n",
       "    <tr>\n",
       "      <th>capsulaMarrom</th>\n",
       "      <td>34</td>\n",
       "      <td>652</td>\n",
       "      <td>686</td>\n",
       "      <td>15</td>\n",
       "      <td>279</td>\n",
       "      <td>294</td>\n",
       "      <td>980</td>\n",
       "      <td>5</td>\n",
       "    </tr>\n",
       "    <tr>\n",
       "      <th>soja</th>\n",
       "      <td>49</td>\n",
       "      <td>651</td>\n",
       "      <td>700</td>\n",
       "      <td>21</td>\n",
       "      <td>279</td>\n",
       "      <td>300</td>\n",
       "      <td>1000</td>\n",
       "      <td>7</td>\n",
       "    </tr>\n",
       "  </tbody>\n",
       "</table>\n",
       "</div>"
      ],
      "text/plain": [
       "               defeitosTreino  semDefeitosTreino  totalTreino  defeitosTeste  \\\n",
       "objeto                                                                         \n",
       "capsulaRosa                15                197          212              5   \n",
       "capsulaMarrom              34                652          686             15   \n",
       "soja                       49                651          700             21   \n",
       "\n",
       "               semDefeitosTeste  totalTeste  Total %Defeitos  \n",
       "objeto                                                        \n",
       "capsulaRosa                  83          88    300      6,66  \n",
       "capsulaMarrom               279         294    980         5  \n",
       "soja                        279         300   1000         7  "
      ]
     },
     "execution_count": 2,
     "metadata": {},
     "output_type": "execute_result"
    }
   ],
   "source": [
    "df"
   ]
  },
  {
   "cell_type": "markdown",
   "metadata": {},
   "source": [
    "### Descrição estatística dos dados\n",
    "Função .describe()"
   ]
  },
  {
   "cell_type": "code",
   "execution_count": 3,
   "metadata": {
    "scrolled": true
   },
   "outputs": [
    {
     "data": {
      "text/html": [
       "<div>\n",
       "<style scoped>\n",
       "    .dataframe tbody tr th:only-of-type {\n",
       "        vertical-align: middle;\n",
       "    }\n",
       "\n",
       "    .dataframe tbody tr th {\n",
       "        vertical-align: top;\n",
       "    }\n",
       "\n",
       "    .dataframe thead th {\n",
       "        text-align: right;\n",
       "    }\n",
       "</style>\n",
       "<table border=\"1\" class=\"dataframe\">\n",
       "  <thead>\n",
       "    <tr style=\"text-align: right;\">\n",
       "      <th></th>\n",
       "      <th>defeitosTreino</th>\n",
       "      <th>semDefeitosTreino</th>\n",
       "      <th>totalTreino</th>\n",
       "      <th>defeitosTeste</th>\n",
       "      <th>semDefeitosTeste</th>\n",
       "      <th>totalTeste</th>\n",
       "      <th>Total</th>\n",
       "    </tr>\n",
       "  </thead>\n",
       "  <tbody>\n",
       "    <tr>\n",
       "      <th>count</th>\n",
       "      <td>3.000000</td>\n",
       "      <td>3.000000</td>\n",
       "      <td>3.000000</td>\n",
       "      <td>3.000000</td>\n",
       "      <td>3.000000</td>\n",
       "      <td>3.000000</td>\n",
       "      <td>3.000000</td>\n",
       "    </tr>\n",
       "    <tr>\n",
       "      <th>mean</th>\n",
       "      <td>32.666667</td>\n",
       "      <td>500.000000</td>\n",
       "      <td>532.666667</td>\n",
       "      <td>13.666667</td>\n",
       "      <td>213.666667</td>\n",
       "      <td>227.333333</td>\n",
       "      <td>760.000000</td>\n",
       "    </tr>\n",
       "    <tr>\n",
       "      <th>std</th>\n",
       "      <td>17.039171</td>\n",
       "      <td>262.406174</td>\n",
       "      <td>277.793688</td>\n",
       "      <td>8.082904</td>\n",
       "      <td>113.160653</td>\n",
       "      <td>120.703493</td>\n",
       "      <td>398.497177</td>\n",
       "    </tr>\n",
       "    <tr>\n",
       "      <th>min</th>\n",
       "      <td>15.000000</td>\n",
       "      <td>197.000000</td>\n",
       "      <td>212.000000</td>\n",
       "      <td>5.000000</td>\n",
       "      <td>83.000000</td>\n",
       "      <td>88.000000</td>\n",
       "      <td>300.000000</td>\n",
       "    </tr>\n",
       "    <tr>\n",
       "      <th>25%</th>\n",
       "      <td>24.500000</td>\n",
       "      <td>424.000000</td>\n",
       "      <td>449.000000</td>\n",
       "      <td>10.000000</td>\n",
       "      <td>181.000000</td>\n",
       "      <td>191.000000</td>\n",
       "      <td>640.000000</td>\n",
       "    </tr>\n",
       "    <tr>\n",
       "      <th>50%</th>\n",
       "      <td>34.000000</td>\n",
       "      <td>651.000000</td>\n",
       "      <td>686.000000</td>\n",
       "      <td>15.000000</td>\n",
       "      <td>279.000000</td>\n",
       "      <td>294.000000</td>\n",
       "      <td>980.000000</td>\n",
       "    </tr>\n",
       "    <tr>\n",
       "      <th>75%</th>\n",
       "      <td>41.500000</td>\n",
       "      <td>651.500000</td>\n",
       "      <td>693.000000</td>\n",
       "      <td>18.000000</td>\n",
       "      <td>279.000000</td>\n",
       "      <td>297.000000</td>\n",
       "      <td>990.000000</td>\n",
       "    </tr>\n",
       "    <tr>\n",
       "      <th>max</th>\n",
       "      <td>49.000000</td>\n",
       "      <td>652.000000</td>\n",
       "      <td>700.000000</td>\n",
       "      <td>21.000000</td>\n",
       "      <td>279.000000</td>\n",
       "      <td>300.000000</td>\n",
       "      <td>1000.000000</td>\n",
       "    </tr>\n",
       "  </tbody>\n",
       "</table>\n",
       "</div>"
      ],
      "text/plain": [
       "       defeitosTreino  semDefeitosTreino  totalTreino  defeitosTeste  \\\n",
       "count        3.000000           3.000000     3.000000       3.000000   \n",
       "mean        32.666667         500.000000   532.666667      13.666667   \n",
       "std         17.039171         262.406174   277.793688       8.082904   \n",
       "min         15.000000         197.000000   212.000000       5.000000   \n",
       "25%         24.500000         424.000000   449.000000      10.000000   \n",
       "50%         34.000000         651.000000   686.000000      15.000000   \n",
       "75%         41.500000         651.500000   693.000000      18.000000   \n",
       "max         49.000000         652.000000   700.000000      21.000000   \n",
       "\n",
       "       semDefeitosTeste  totalTeste        Total  \n",
       "count          3.000000    3.000000     3.000000  \n",
       "mean         213.666667  227.333333   760.000000  \n",
       "std          113.160653  120.703493   398.497177  \n",
       "min           83.000000   88.000000   300.000000  \n",
       "25%          181.000000  191.000000   640.000000  \n",
       "50%          279.000000  294.000000   980.000000  \n",
       "75%          279.000000  297.000000   990.000000  \n",
       "max          279.000000  300.000000  1000.000000  "
      ]
     },
     "execution_count": 3,
     "metadata": {},
     "output_type": "execute_result"
    }
   ],
   "source": [
    "df.describe()"
   ]
  },
  {
   "cell_type": "markdown",
   "metadata": {},
   "source": [
    "### Acessando informações\n",
    "* Dados referentes a semente de soja"
   ]
  },
  {
   "cell_type": "code",
   "execution_count": 4,
   "metadata": {},
   "outputs": [
    {
     "data": {
      "text/html": [
       "<div>\n",
       "<style scoped>\n",
       "    .dataframe tbody tr th:only-of-type {\n",
       "        vertical-align: middle;\n",
       "    }\n",
       "\n",
       "    .dataframe tbody tr th {\n",
       "        vertical-align: top;\n",
       "    }\n",
       "\n",
       "    .dataframe thead th {\n",
       "        text-align: right;\n",
       "    }\n",
       "</style>\n",
       "<table border=\"1\" class=\"dataframe\">\n",
       "  <thead>\n",
       "    <tr style=\"text-align: right;\">\n",
       "      <th></th>\n",
       "      <th>defeitosTreino</th>\n",
       "      <th>semDefeitosTreino</th>\n",
       "      <th>totalTreino</th>\n",
       "      <th>defeitosTeste</th>\n",
       "      <th>semDefeitosTeste</th>\n",
       "      <th>totalTeste</th>\n",
       "      <th>Total</th>\n",
       "      <th>%Defeitos</th>\n",
       "    </tr>\n",
       "    <tr>\n",
       "      <th>objeto</th>\n",
       "      <th></th>\n",
       "      <th></th>\n",
       "      <th></th>\n",
       "      <th></th>\n",
       "      <th></th>\n",
       "      <th></th>\n",
       "      <th></th>\n",
       "      <th></th>\n",
       "    </tr>\n",
       "  </thead>\n",
       "  <tbody>\n",
       "    <tr>\n",
       "      <th>soja</th>\n",
       "      <td>49</td>\n",
       "      <td>651</td>\n",
       "      <td>700</td>\n",
       "      <td>21</td>\n",
       "      <td>279</td>\n",
       "      <td>300</td>\n",
       "      <td>1000</td>\n",
       "      <td>7</td>\n",
       "    </tr>\n",
       "  </tbody>\n",
       "</table>\n",
       "</div>"
      ],
      "text/plain": [
       "        defeitosTreino  semDefeitosTreino  totalTreino  defeitosTeste  \\\n",
       "objeto                                                                  \n",
       "soja                49                651          700             21   \n",
       "\n",
       "        semDefeitosTeste  totalTeste  Total %Defeitos  \n",
       "objeto                                                 \n",
       "soja                 279         300   1000         7  "
      ]
     },
     "execution_count": 4,
     "metadata": {},
     "output_type": "execute_result"
    }
   ],
   "source": [
    "df.loc[['soja']]"
   ]
  },
  {
   "cell_type": "markdown",
   "metadata": {},
   "source": [
    "* Relação de cápsulas 1 defeituosas na etapa de treino"
   ]
  },
  {
   "cell_type": "code",
   "execution_count": 5,
   "metadata": {
    "scrolled": false
   },
   "outputs": [
    {
     "data": {
      "text/html": [
       "<div>\n",
       "<style scoped>\n",
       "    .dataframe tbody tr th:only-of-type {\n",
       "        vertical-align: middle;\n",
       "    }\n",
       "\n",
       "    .dataframe tbody tr th {\n",
       "        vertical-align: top;\n",
       "    }\n",
       "\n",
       "    .dataframe thead th {\n",
       "        text-align: right;\n",
       "    }\n",
       "</style>\n",
       "<table border=\"1\" class=\"dataframe\">\n",
       "  <thead>\n",
       "    <tr style=\"text-align: right;\">\n",
       "      <th></th>\n",
       "      <th>defeitosTreino</th>\n",
       "    </tr>\n",
       "    <tr>\n",
       "      <th>objeto</th>\n",
       "      <th></th>\n",
       "    </tr>\n",
       "  </thead>\n",
       "  <tbody>\n",
       "    <tr>\n",
       "      <th>capsulaMarrom</th>\n",
       "      <td>34</td>\n",
       "    </tr>\n",
       "  </tbody>\n",
       "</table>\n",
       "</div>"
      ],
      "text/plain": [
       "               defeitosTreino\n",
       "objeto                       \n",
       "capsulaMarrom              34"
      ]
     },
     "execution_count": 5,
     "metadata": {},
     "output_type": "execute_result"
    }
   ],
   "source": [
    "df.loc[['capsulaMarrom'],['defeitosTreino']]"
   ]
  },
  {
   "cell_type": "markdown",
   "metadata": {},
   "source": [
    "* Quantidade de cápsulas 1 defeituosas na etapa de treino"
   ]
  },
  {
   "cell_type": "code",
   "execution_count": 6,
   "metadata": {},
   "outputs": [
    {
     "name": "stdout",
     "output_type": "stream",
     "text": [
      "Quantidade:  34\n"
     ]
    }
   ],
   "source": [
    "result = df.at['capsulaMarrom','defeitosTreino']\n",
    "print(\"Quantidade: \", result)"
   ]
  }
 ],
 "metadata": {
  "kernelspec": {
   "display_name": "Python 3",
   "language": "python",
   "name": "python3"
  },
  "language_info": {
   "codemirror_mode": {
    "name": "ipython",
    "version": 3
   },
   "file_extension": ".py",
   "mimetype": "text/x-python",
   "name": "python",
   "nbconvert_exporter": "python",
   "pygments_lexer": "ipython3",
   "version": "3.7.3"
  }
 },
 "nbformat": 4,
 "nbformat_minor": 2
}
